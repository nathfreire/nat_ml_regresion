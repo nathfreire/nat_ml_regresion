{
 "cells": [
  {
   "cell_type": "code",
   "execution_count": null,
   "metadata": {},
   "outputs": [],
   "source": []
  },
  {
   "cell_type": "code",
   "execution_count": 2,
   "metadata": {},
   "outputs": [],
   "source": [
    "ruta='C:/4_F5/014_cars/nat_ml_regresion/salidas/'"
   ]
  },
  {
   "cell_type": "markdown",
   "metadata": {},
   "source": [
    "1. Cargar los datos\n"
   ]
  },
  {
   "cell_type": "code",
   "execution_count": 3,
   "metadata": {},
   "outputs": [],
   "source": [
    "import pandas as pd\n",
    "import os\n",
    "\n",
    "def load_data_train(file_path):\n",
    "    \"\"\"\n",
    "    Carga los datos del archivo CSV.\n",
    "\n",
    "    Args:\n",
    "        file_path (str): Ruta al archivo CSV.\n",
    "\n",
    "    Returns:\n",
    "        pd.DataFrame: DataFrame con los datos cargados o None si hay un error.\n",
    "    \"\"\"\n",
    "\n",
    "    # Obtener la ruta absoluta del archivo para evitar problemas con rutas relativas\n",
    "    abs_file_path = os.path.abspath(file_path)\n",
    "\n",
    "    # Verificar si el archivo existe en la ruta especificada\n",
    "    if not os.path.exists(abs_file_path):\n",
    "        # Imprimir mensajes de error detallados si el archivo no existe\n",
    "        print(f\"Error: El archivo no existe en la ruta: {abs_file_path}\")\n",
    "        print(f\"Directorio actual: {os.getcwd()}\")  # Mostrar el directorio actual para ayudar a depurar\n",
    "        print(\"Contenido del directorio:\")\n",
    "        try:\n",
    "            # Intentar listar el contenido del directorio para ayudar a identificar el problema\n",
    "            print(os.listdir(os.path.dirname(abs_file_path)))\n",
    "        except FileNotFoundError:\n",
    "            print(\"El directorio no existe.\")  # Informar si el directorio tampoco existe\n",
    "        return None  # Devolver None para indicar que la carga falló\n",
    "\n",
    "    try:\n",
    "        # Intentar cargar los datos utilizando pandas\n",
    "        df_train = pd.read_csv(abs_file_path)\n",
    "        print(f\"\\nDatos de 'train' cargados exitosamente. Shape: {df_train.shape}\\n\")  # Confirmar la carga exitosa\n",
    "        return df_train\n",
    "    except Exception as e:\n",
    "        # Capturar cualquier excepción que ocurra durante la carga e imprimir un mensaje de error\n",
    "        print(f\"Error al cargar los datos: {e}\")\n",
    "        return None"
   ]
  },
  {
   "cell_type": "code",
   "execution_count": 4,
   "metadata": {},
   "outputs": [
    {
     "name": "stdout",
     "output_type": "stream",
     "text": [
      "Intentando cargar el archivo desde: c:\\4_F5\\014_cars\\nat_ml_regresion\\data\\train.csv\n",
      "\n",
      "Datos de 'train' cargados exitosamente. Shape: (188533, 13)\n",
      "\n",
      "   id          brand              model  model_year  milage      fuel_type  \\\n",
      "0   0           MINI      Cooper S Base        2007  213000       Gasoline   \n",
      "1   1        Lincoln              LS V8        2002  143250       Gasoline   \n",
      "2   2      Chevrolet  Silverado 2500 LT        2002  136731  E85 Flex Fuel   \n",
      "3   3        Genesis   G90 5.0 Ultimate        2017   19500       Gasoline   \n",
      "4   4  Mercedes-Benz        Metris Base        2021    7388       Gasoline   \n",
      "\n",
      "                                              engine  \\\n",
      "0       172.0HP 1.6L 4 Cylinder Engine Gasoline Fuel   \n",
      "1       252.0HP 3.9L 8 Cylinder Engine Gasoline Fuel   \n",
      "2  320.0HP 5.3L 8 Cylinder Engine Flex Fuel Capab...   \n",
      "3       420.0HP 5.0L 8 Cylinder Engine Gasoline Fuel   \n",
      "4       208.0HP 2.0L 4 Cylinder Engine Gasoline Fuel   \n",
      "\n",
      "                     transmission ext_col int_col  \\\n",
      "0                             A/T  Yellow    Gray   \n",
      "1                             A/T  Silver   Beige   \n",
      "2                             A/T    Blue    Gray   \n",
      "3  Transmission w/Dual Shift Mode   Black   Black   \n",
      "4                     7-Speed A/T   Black   Beige   \n",
      "\n",
      "                                 accident clean_title  price  \n",
      "0                           None reported         Yes   4200  \n",
      "1  At least 1 accident or damage reported         Yes   4999  \n",
      "2                           None reported         Yes  13900  \n",
      "3                           None reported         Yes  45000  \n",
      "4                           None reported         Yes  97500  \n"
     ]
    }
   ],
   "source": [
    "# Bloque de ejemplo de uso (solo se ejecuta si el script se ejecuta directamente)\n",
    "if __name__ == \"__main__\":\n",
    "    # Obtener la ruta al archivo CSV dentro de la estructura del proyecto\n",
    "    #script_dir = os.path.dirname(os.path.abspath(__file__)) #sólo sirve cuando es .py porque la variable __file__ no está disponible porque no se está ejecutando un script de Python directamente.\n",
    "    #project_root = os.path.dirname(os.path.dirname(script_dir))\n",
    "    #data_path = os.path.join(project_root, \"data\", \"mushrooms.csv\") #(project_root,\"carpeta\",\"subcarpeta\",\"archivo.csv\")\n",
    "    data_path = data_path = os.path.join(os.getcwd(), \"data\", \"train.csv\")\n",
    "\n",
    "    print(f\"Intentando cargar el archivo desde: {data_path}\")\n",
    "\n",
    "\n",
    "    # Llamar a la función load_data para cargar los datos\n",
    "    \n",
    "    df_train = load_data_train(data_path)\n",
    "    if df_train is not None:\n",
    "        # Imprimir las primeras filas del DataFrame si la carga fue exitosa\n",
    "        print(df_train.head())\n",
    "    else:\n",
    "        # Imprimir un mensaje de error si la carga falló\n",
    "        print(\"No se pudieron cargar los datos. Verifica la ruta del archivo y su existencia.\")"
   ]
  },
  {
   "cell_type": "markdown",
   "metadata": {},
   "source": [
    "Luego debo cargar la parte de 'test' -----> Pendiente"
   ]
  },
  {
   "cell_type": "code",
   "execution_count": 5,
   "metadata": {},
   "outputs": [
    {
     "data": {
      "text/html": [
       "<div>\n",
       "<style scoped>\n",
       "    .dataframe tbody tr th:only-of-type {\n",
       "        vertical-align: middle;\n",
       "    }\n",
       "\n",
       "    .dataframe tbody tr th {\n",
       "        vertical-align: top;\n",
       "    }\n",
       "\n",
       "    .dataframe thead th {\n",
       "        text-align: right;\n",
       "    }\n",
       "</style>\n",
       "<table border=\"1\" class=\"dataframe\">\n",
       "  <thead>\n",
       "    <tr style=\"text-align: right;\">\n",
       "      <th></th>\n",
       "      <th>brand</th>\n",
       "      <th>model</th>\n",
       "      <th>model_year</th>\n",
       "      <th>milage</th>\n",
       "      <th>fuel_type</th>\n",
       "      <th>engine</th>\n",
       "      <th>transmission</th>\n",
       "      <th>ext_col</th>\n",
       "      <th>int_col</th>\n",
       "      <th>accident</th>\n",
       "      <th>clean_title</th>\n",
       "    </tr>\n",
       "  </thead>\n",
       "  <tbody>\n",
       "    <tr>\n",
       "      <th>0</th>\n",
       "      <td>MINI</td>\n",
       "      <td>Cooper S Base</td>\n",
       "      <td>2007</td>\n",
       "      <td>213000</td>\n",
       "      <td>Gasoline</td>\n",
       "      <td>172.0HP 1.6L 4 Cylinder Engine Gasoline Fuel</td>\n",
       "      <td>A/T</td>\n",
       "      <td>Yellow</td>\n",
       "      <td>Gray</td>\n",
       "      <td>None reported</td>\n",
       "      <td>Yes</td>\n",
       "    </tr>\n",
       "    <tr>\n",
       "      <th>1</th>\n",
       "      <td>Lincoln</td>\n",
       "      <td>LS V8</td>\n",
       "      <td>2002</td>\n",
       "      <td>143250</td>\n",
       "      <td>Gasoline</td>\n",
       "      <td>252.0HP 3.9L 8 Cylinder Engine Gasoline Fuel</td>\n",
       "      <td>A/T</td>\n",
       "      <td>Silver</td>\n",
       "      <td>Beige</td>\n",
       "      <td>At least 1 accident or damage reported</td>\n",
       "      <td>Yes</td>\n",
       "    </tr>\n",
       "    <tr>\n",
       "      <th>2</th>\n",
       "      <td>Chevrolet</td>\n",
       "      <td>Silverado 2500 LT</td>\n",
       "      <td>2002</td>\n",
       "      <td>136731</td>\n",
       "      <td>E85 Flex Fuel</td>\n",
       "      <td>320.0HP 5.3L 8 Cylinder Engine Flex Fuel Capab...</td>\n",
       "      <td>A/T</td>\n",
       "      <td>Blue</td>\n",
       "      <td>Gray</td>\n",
       "      <td>None reported</td>\n",
       "      <td>Yes</td>\n",
       "    </tr>\n",
       "    <tr>\n",
       "      <th>3</th>\n",
       "      <td>Genesis</td>\n",
       "      <td>G90 5.0 Ultimate</td>\n",
       "      <td>2017</td>\n",
       "      <td>19500</td>\n",
       "      <td>Gasoline</td>\n",
       "      <td>420.0HP 5.0L 8 Cylinder Engine Gasoline Fuel</td>\n",
       "      <td>Transmission w/Dual Shift Mode</td>\n",
       "      <td>Black</td>\n",
       "      <td>Black</td>\n",
       "      <td>None reported</td>\n",
       "      <td>Yes</td>\n",
       "    </tr>\n",
       "    <tr>\n",
       "      <th>4</th>\n",
       "      <td>Mercedes-Benz</td>\n",
       "      <td>Metris Base</td>\n",
       "      <td>2021</td>\n",
       "      <td>7388</td>\n",
       "      <td>Gasoline</td>\n",
       "      <td>208.0HP 2.0L 4 Cylinder Engine Gasoline Fuel</td>\n",
       "      <td>7-Speed A/T</td>\n",
       "      <td>Black</td>\n",
       "      <td>Beige</td>\n",
       "      <td>None reported</td>\n",
       "      <td>Yes</td>\n",
       "    </tr>\n",
       "  </tbody>\n",
       "</table>\n",
       "</div>"
      ],
      "text/plain": [
       "           brand              model  model_year  milage      fuel_type  \\\n",
       "0           MINI      Cooper S Base        2007  213000       Gasoline   \n",
       "1        Lincoln              LS V8        2002  143250       Gasoline   \n",
       "2      Chevrolet  Silverado 2500 LT        2002  136731  E85 Flex Fuel   \n",
       "3        Genesis   G90 5.0 Ultimate        2017   19500       Gasoline   \n",
       "4  Mercedes-Benz        Metris Base        2021    7388       Gasoline   \n",
       "\n",
       "                                              engine  \\\n",
       "0       172.0HP 1.6L 4 Cylinder Engine Gasoline Fuel   \n",
       "1       252.0HP 3.9L 8 Cylinder Engine Gasoline Fuel   \n",
       "2  320.0HP 5.3L 8 Cylinder Engine Flex Fuel Capab...   \n",
       "3       420.0HP 5.0L 8 Cylinder Engine Gasoline Fuel   \n",
       "4       208.0HP 2.0L 4 Cylinder Engine Gasoline Fuel   \n",
       "\n",
       "                     transmission ext_col int_col  \\\n",
       "0                             A/T  Yellow    Gray   \n",
       "1                             A/T  Silver   Beige   \n",
       "2                             A/T    Blue    Gray   \n",
       "3  Transmission w/Dual Shift Mode   Black   Black   \n",
       "4                     7-Speed A/T   Black   Beige   \n",
       "\n",
       "                                 accident clean_title  \n",
       "0                           None reported         Yes  \n",
       "1  At least 1 accident or damage reported         Yes  \n",
       "2                           None reported         Yes  \n",
       "3                           None reported         Yes  \n",
       "4                           None reported         Yes  "
      ]
     },
     "execution_count": 5,
     "metadata": {},
     "output_type": "execute_result"
    }
   ],
   "source": [
    "x_train=df_train.drop(['id', 'price'], axis=1)\n",
    "\n",
    "x_train.head()"
   ]
  },
  {
   "cell_type": "code",
   "execution_count": 6,
   "metadata": {},
   "outputs": [],
   "source": [
    "y_train= df_train['price']"
   ]
  },
  {
   "cell_type": "markdown",
   "metadata": {},
   "source": [
    "2. Examinar las primeras y últimas filas del DataFrame\n"
   ]
  },
  {
   "cell_type": "code",
   "execution_count": 7,
   "metadata": {},
   "outputs": [
    {
     "name": "stdout",
     "output_type": "stream",
     "text": [
      "           brand              model  model_year  milage      fuel_type  \\\n",
      "0           MINI      Cooper S Base        2007  213000       Gasoline   \n",
      "1        Lincoln              LS V8        2002  143250       Gasoline   \n",
      "2      Chevrolet  Silverado 2500 LT        2002  136731  E85 Flex Fuel   \n",
      "3        Genesis   G90 5.0 Ultimate        2017   19500       Gasoline   \n",
      "4  Mercedes-Benz        Metris Base        2021    7388       Gasoline   \n",
      "\n",
      "                                              engine  \\\n",
      "0       172.0HP 1.6L 4 Cylinder Engine Gasoline Fuel   \n",
      "1       252.0HP 3.9L 8 Cylinder Engine Gasoline Fuel   \n",
      "2  320.0HP 5.3L 8 Cylinder Engine Flex Fuel Capab...   \n",
      "3       420.0HP 5.0L 8 Cylinder Engine Gasoline Fuel   \n",
      "4       208.0HP 2.0L 4 Cylinder Engine Gasoline Fuel   \n",
      "\n",
      "                     transmission ext_col int_col  \\\n",
      "0                             A/T  Yellow    Gray   \n",
      "1                             A/T  Silver   Beige   \n",
      "2                             A/T    Blue    Gray   \n",
      "3  Transmission w/Dual Shift Mode   Black   Black   \n",
      "4                     7-Speed A/T   Black   Beige   \n",
      "\n",
      "                                 accident clean_title  \n",
      "0                           None reported         Yes  \n",
      "1  At least 1 accident or damage reported         Yes  \n",
      "2                           None reported         Yes  \n",
      "3                           None reported         Yes  \n",
      "4                           None reported         Yes  \n",
      "                brand                     model  model_year  milage fuel_type  \\\n",
      "188528       Cadillac     Escalade ESV Platinum        2017   49000  Gasoline   \n",
      "188529  Mercedes-Benz  AMG C 43 AMG C 43 4MATIC        2018   28600  Gasoline   \n",
      "188530  Mercedes-Benz    AMG GLC 63 Base 4MATIC        2021   13650  Gasoline   \n",
      "188531           Audi          S5 3.0T Prestige        2022   13895  Gasoline   \n",
      "188532        Porsche                Macan Base        2016   59500  Gasoline   \n",
      "\n",
      "                                               engine  \\\n",
      "188528   420.0HP 6.2L 8 Cylinder Engine Gasoline Fuel   \n",
      "188529  385.0HP 3.0L V6 Cylinder Engine Gasoline Fuel   \n",
      "188530   469.0HP 4.0L 8 Cylinder Engine Gasoline Fuel   \n",
      "188531                                           3.0L   \n",
      "188532   252.0HP 2.0L 4 Cylinder Engine Gasoline Fuel   \n",
      "\n",
      "                          transmission                    ext_col int_col  \\\n",
      "188528  Transmission w/Dual Shift Mode                      White   Beige   \n",
      "188529                     8-Speed A/T                      White   Black   \n",
      "188530                     7-Speed A/T                      White   Black   \n",
      "188531               1-Speed Automatic  Daytona Gray Pearl Effect   Black   \n",
      "188532  Transmission w/Dual Shift Mode                      White   Black   \n",
      "\n",
      "                                      accident clean_title  \n",
      "188528                           None reported         Yes  \n",
      "188529  At least 1 accident or damage reported         Yes  \n",
      "188530                           None reported         Yes  \n",
      "188531                           None reported         NaN  \n",
      "188532                           None reported         Yes  \n"
     ]
    }
   ],
   "source": [
    "# Ver las primeras 5 filas\n",
    "print(x_train.head())\n",
    "\n",
    "# Ver las últimas 5 filas\n",
    "print(x_train.tail())"
   ]
  },
  {
   "cell_type": "markdown",
   "metadata": {},
   "source": [
    "3. Obtener un resumen del DataFrame\n",
    "\n",
    "El método info() proporciona un resumen del DataFrame, incluyendo el número de filas y columnas, los tipos de datos y la cantidad de valores no nulos. Es útil para detectar valores faltantes y verificar que los tipos de datos sean los esperados."
   ]
  },
  {
   "cell_type": "code",
   "execution_count": 8,
   "metadata": {},
   "outputs": [
    {
     "name": "stdout",
     "output_type": "stream",
     "text": [
      "<class 'pandas.core.frame.DataFrame'>\n",
      "RangeIndex: 188533 entries, 0 to 188532\n",
      "Data columns (total 11 columns):\n",
      " #   Column        Non-Null Count   Dtype \n",
      "---  ------        --------------   ----- \n",
      " 0   brand         188533 non-null  object\n",
      " 1   model         188533 non-null  object\n",
      " 2   model_year    188533 non-null  int64 \n",
      " 3   milage        188533 non-null  int64 \n",
      " 4   fuel_type     183450 non-null  object\n",
      " 5   engine        188533 non-null  object\n",
      " 6   transmission  188533 non-null  object\n",
      " 7   ext_col       188533 non-null  object\n",
      " 8   int_col       188533 non-null  object\n",
      " 9   accident      186081 non-null  object\n",
      " 10  clean_title   167114 non-null  object\n",
      "dtypes: int64(2), object(9)\n",
      "memory usage: 15.8+ MB\n",
      "None\n"
     ]
    }
   ],
   "source": [
    "# Resumen de la estructura del DataFrame\n",
    "print(x_train.info())"
   ]
  },
  {
   "cell_type": "markdown",
   "metadata": {},
   "source": [
    "4. Estadísticas descriptivas\n",
    "\n",
    "El método describe() genera estadísticas descriptivas como la media, mediana, desviación estándar, valores mínimos y máximos para las columnas numéricas. Esto es útil para tener una idea de la distribución de los datos."
   ]
  },
  {
   "cell_type": "code",
   "execution_count": 9,
   "metadata": {},
   "outputs": [
    {
     "name": "stdout",
     "output_type": "stream",
     "text": [
      "          model_year         milage\n",
      "count  188533.000000  188533.000000\n",
      "mean     2015.829998   65705.295174\n",
      "std         5.660967   49798.158076\n",
      "min      1974.000000     100.000000\n",
      "25%      2013.000000   24115.000000\n",
      "50%      2017.000000   57785.000000\n",
      "75%      2020.000000   95400.000000\n",
      "max      2024.000000  405000.000000\n"
     ]
    }
   ],
   "source": [
    "# Estadísticas descriptivas\n",
    "print(x_train.describe())\n"
   ]
  },
  {
   "cell_type": "code",
   "execution_count": 10,
   "metadata": {},
   "outputs": [
    {
     "name": "stdout",
     "output_type": "stream",
     "text": [
      "         brand      model fuel_type  \\\n",
      "count   188533     188533    183450   \n",
      "unique      57       1897         7   \n",
      "top       Ford  F-150 XLT  Gasoline   \n",
      "freq     23088       2945    165940   \n",
      "\n",
      "                                              engine transmission ext_col  \\\n",
      "count                                         188533       188533  188533   \n",
      "unique                                          1117           52     319   \n",
      "top     355.0HP 5.3L 8 Cylinder Engine Gasoline Fuel          A/T   Black   \n",
      "freq                                            3462        49904   48658   \n",
      "\n",
      "       int_col       accident clean_title  \n",
      "count   188533         186081      167114  \n",
      "unique     156              2           1  \n",
      "top      Black  None reported         Yes  \n",
      "freq    107674         144514      167114  \n"
     ]
    }
   ],
   "source": [
    "# Estadísticas descriptivas para variables categóricas\n",
    "#Se usa describe(include='object') para ver el recuento y las frecuencias más comunes en esas columnas.\n",
    "print(x_train.describe(include='object'))"
   ]
  },
  {
   "cell_type": "markdown",
   "metadata": {},
   "source": [
    "5. Revisar valores únicos y distribución de categorías\n",
    "\n",
    "Para variables categóricas, es importante saber cuántas categorías hay y cómo están distribuidas. Usar value_counts() te permite ver la frecuencia de cada categoría."
   ]
  },
  {
   "cell_type": "code",
   "execution_count": 11,
   "metadata": {},
   "outputs": [
    {
     "name": "stdout",
     "output_type": "stream",
     "text": [
      "engine\n",
      "355.0HP 5.3L 8 Cylinder Engine Gasoline Fuel           3462\n",
      "240.0HP 2.0L 4 Cylinder Engine Gasoline Fuel           2902\n",
      "420.0HP 6.2L 8 Cylinder Engine Gasoline Fuel           2841\n",
      "2.0L I4 16V GDI DOHC Turbo                             2680\n",
      "375.0HP 3.5L V6 Cylinder Engine Gasoline Fuel          2451\n",
      "                                                       ... \n",
      "78.0HP 1.2L 3 Cylinder Engine Gasoline Fuel               1\n",
      "139.0HP 1.6L 4 Cylinder Engine Plug-In Electric/Gas       1\n",
      "151.0HP 1.5L 4 Cylinder Engine Gas/Electric Hybrid        1\n",
      "184.0HP 2.4L 4 Cylinder Engine Flex Fuel Capability       1\n",
      "313.0HP 2.0L 4 Cylinder Engine Plug-In Electric/Gas       1\n",
      "Name: count, Length: 1117, dtype: int64\n"
     ]
    }
   ],
   "source": [
    "# Ver cuántas veces aparece cada valor en una columna categórica\n",
    "print(x_train['engine'].value_counts())"
   ]
  },
  {
   "cell_type": "markdown",
   "metadata": {},
   "source": [
    "6. Identificar valores faltantes (NaN)\n",
    "\n",
    "Usar isnull() combinado con sum() para contar cuántos valores faltantes hay en cada columna.\n",
    "\n",
    "Este paso es fundamental para planificar cómo tratar estos valores: eliminarlos, imputarlos o tratarlos de alguna otra manera."
   ]
  },
  {
   "cell_type": "code",
   "execution_count": 12,
   "metadata": {},
   "outputs": [
    {
     "name": "stdout",
     "output_type": "stream",
     "text": [
      "brand               0\n",
      "model               0\n",
      "model_year          0\n",
      "milage              0\n",
      "fuel_type        5083\n",
      "engine              0\n",
      "transmission        0\n",
      "ext_col             0\n",
      "int_col             0\n",
      "accident         2452\n",
      "clean_title     21419\n",
      "dtype: int64\n",
      "\n",
      "Las columnas con valores missings son:\n",
      "fuel_type       5083\n",
      "accident        2452\n",
      "clean_title    21419\n",
      "dtype: int64\n"
     ]
    }
   ],
   "source": [
    "# Contar valores faltantes por columna\n",
    "count_missings=x_train.isnull().sum()\n",
    "print(count_missings)\n",
    "\n",
    "cols_missings=count_missings[x_train.isnull().sum()!=0]\n",
    "print(f'\\nLas columnas con valores missings son:\\n{cols_missings}')"
   ]
  },
  {
   "cell_type": "code",
   "execution_count": 13,
   "metadata": {},
   "outputs": [
    {
     "data": {
      "text/plain": [
       "brand               0\n",
       "model               0\n",
       "model_year          0\n",
       "milage              0\n",
       "fuel_type        5083\n",
       "engine              0\n",
       "transmission        0\n",
       "ext_col             0\n",
       "int_col             0\n",
       "accident         2452\n",
       "clean_title     21419\n",
       "dtype: int64"
      ]
     },
     "execution_count": 13,
     "metadata": {},
     "output_type": "execute_result"
    }
   ],
   "source": [
    "x_train.isna().sum()"
   ]
  },
  {
   "cell_type": "code",
   "execution_count": 14,
   "metadata": {},
   "outputs": [
    {
     "data": {
      "text/plain": [
       "brand               0\n",
       "model               0\n",
       "model_year          0\n",
       "milage              0\n",
       "fuel_type        5083\n",
       "engine              0\n",
       "transmission        0\n",
       "ext_col             0\n",
       "int_col             0\n",
       "accident         2452\n",
       "clean_title     21419\n",
       "dtype: int64"
      ]
     },
     "execution_count": 14,
     "metadata": {},
     "output_type": "execute_result"
    }
   ],
   "source": [
    "x_train.apply(lambda x: x.isnull().sum() + (x == ' ').sum())"
   ]
  },
  {
   "cell_type": "markdown",
   "metadata": {},
   "source": [
    "Detectar las variables categóricas ordinales"
   ]
  },
  {
   "cell_type": "code",
   "execution_count": 15,
   "metadata": {},
   "outputs": [
    {
     "name": "stdout",
     "output_type": "stream",
     "text": [
      "Variables categóricas ordinales: []\n",
      "0\n"
     ]
    }
   ],
   "source": [
    "import pandas as pd\n",
    "\n",
    "\n",
    "# Función para detectar variables categóricas ordinales\n",
    "def detectar_variables_ordinales(df):\n",
    "    ordinal_columns = []\n",
    "\n",
    "    for column in df.columns:\n",
    "        # verificar si la columna es numérica\n",
    "        if pd.api.types.is_numeric_dtype(df[column]):\n",
    "            # obtener valores únicos\n",
    "            unique_values = df[column].unique()\n",
    "            # verificar si todos los valores están en el rango [1,5]\n",
    "            if set(unique_values).issubset({0, 1, 2, 3, 4, 5}):\n",
    "                ordinal_columns.append(column)\n",
    "\n",
    "    \n",
    "    return ordinal_columns\n",
    "\n",
    "\n",
    "\n",
    "\n",
    "variables_ordinales = detectar_variables_ordinales(x_train)\n",
    "print(\"Variables categóricas ordinales:\", variables_ordinales)\n",
    "rows_with_zero = (x_train[variables_ordinales] == 0).any(axis=1).sum()\n",
    "print(rows_with_zero)"
   ]
  },
  {
   "cell_type": "markdown",
   "metadata": {},
   "source": [
    "Variables categóricas nominales"
   ]
  },
  {
   "cell_type": "code",
   "execution_count": 16,
   "metadata": {},
   "outputs": [
    {
     "name": "stdout",
     "output_type": "stream",
     "text": [
      "Index(['brand', 'model', 'fuel_type', 'engine', 'transmission', 'ext_col',\n",
      "       'int_col', 'accident', 'clean_title'],\n",
      "      dtype='object')\n",
      "                brand                     model      fuel_type  \\\n",
      "0                MINI             Cooper S Base       Gasoline   \n",
      "1             Lincoln                     LS V8       Gasoline   \n",
      "2           Chevrolet         Silverado 2500 LT  E85 Flex Fuel   \n",
      "3             Genesis          G90 5.0 Ultimate       Gasoline   \n",
      "4       Mercedes-Benz               Metris Base       Gasoline   \n",
      "...               ...                       ...            ...   \n",
      "188528       Cadillac     Escalade ESV Platinum       Gasoline   \n",
      "188529  Mercedes-Benz  AMG C 43 AMG C 43 4MATIC       Gasoline   \n",
      "188530  Mercedes-Benz    AMG GLC 63 Base 4MATIC       Gasoline   \n",
      "188531           Audi          S5 3.0T Prestige       Gasoline   \n",
      "188532        Porsche                Macan Base       Gasoline   \n",
      "\n",
      "                                                   engine  \\\n",
      "0            172.0HP 1.6L 4 Cylinder Engine Gasoline Fuel   \n",
      "1            252.0HP 3.9L 8 Cylinder Engine Gasoline Fuel   \n",
      "2       320.0HP 5.3L 8 Cylinder Engine Flex Fuel Capab...   \n",
      "3            420.0HP 5.0L 8 Cylinder Engine Gasoline Fuel   \n",
      "4            208.0HP 2.0L 4 Cylinder Engine Gasoline Fuel   \n",
      "...                                                   ...   \n",
      "188528       420.0HP 6.2L 8 Cylinder Engine Gasoline Fuel   \n",
      "188529      385.0HP 3.0L V6 Cylinder Engine Gasoline Fuel   \n",
      "188530       469.0HP 4.0L 8 Cylinder Engine Gasoline Fuel   \n",
      "188531                                               3.0L   \n",
      "188532       252.0HP 2.0L 4 Cylinder Engine Gasoline Fuel   \n",
      "\n",
      "                          transmission                    ext_col int_col  \\\n",
      "0                                  A/T                     Yellow    Gray   \n",
      "1                                  A/T                     Silver   Beige   \n",
      "2                                  A/T                       Blue    Gray   \n",
      "3       Transmission w/Dual Shift Mode                      Black   Black   \n",
      "4                          7-Speed A/T                      Black   Beige   \n",
      "...                                ...                        ...     ...   \n",
      "188528  Transmission w/Dual Shift Mode                      White   Beige   \n",
      "188529                     8-Speed A/T                      White   Black   \n",
      "188530                     7-Speed A/T                      White   Black   \n",
      "188531               1-Speed Automatic  Daytona Gray Pearl Effect   Black   \n",
      "188532  Transmission w/Dual Shift Mode                      White   Black   \n",
      "\n",
      "                                      accident clean_title  \n",
      "0                                None reported         Yes  \n",
      "1       At least 1 accident or damage reported         Yes  \n",
      "2                                None reported         Yes  \n",
      "3                                None reported         Yes  \n",
      "4                                None reported         Yes  \n",
      "...                                        ...         ...  \n",
      "188528                           None reported         Yes  \n",
      "188529  At least 1 accident or damage reported         Yes  \n",
      "188530                           None reported         Yes  \n",
      "188531                           None reported         NaN  \n",
      "188532                           None reported         Yes  \n",
      "\n",
      "[188533 rows x 9 columns]\n"
     ]
    }
   ],
   "source": [
    "categorical_cols = x_train.select_dtypes(['object']).columns\n",
    "\"\"\" df_dummies = pd.get_dummies(x_train, columns=categorical_cols)\n",
    "\n",
    "print(df_dummies) \"\"\"\n",
    "\n",
    "print(categorical_cols)\n",
    "x_categorical=x_train[categorical_cols]\n",
    "x_categorical.to_csv(ruta+'x_categorical.csv',sep=';')\n",
    "print(x_train[categorical_cols])"
   ]
  },
  {
   "cell_type": "markdown",
   "metadata": {},
   "source": [
    "Hay columnas que son 'object'.Esto me puede indicar que hay ciertos valores que NO son ni letras ni enteros."
   ]
  },
  {
   "cell_type": "code",
   "execution_count": 17,
   "metadata": {},
   "outputs": [
    {
     "name": "stdout",
     "output_type": "stream",
     "text": [
      "         Column Non-Alphanumeric Characters\n",
      "0         brand                           -\n",
      "1         model                     -,  , .\n",
      "2     fuel_type                     -,  , –\n",
      "3        engine                     ., –,  \n",
      "4  transmission                  -,  , –, /\n",
      "5       ext_col                         , –\n",
      "6       int_col                   , –, ., /\n",
      "7      accident                            \n"
     ]
    }
   ],
   "source": [
    "import pandas as pd\n",
    "import re\n",
    "\n",
    "def detect_non_alphanumeric_chars(df, columns=None):\n",
    "    \"\"\"\n",
    "    Detecta caracteres que no sean letras ni números en las columnas de un DataFrame.\n",
    "\n",
    "    Parámetros:\n",
    "    - df: DataFrame a analizar\n",
    "    - columns: lista de columnas a analizar (opcional)\n",
    "\n",
    "    Retorna:\n",
    "    - Un diccionario con las columnas que contienen caracteres no alfanuméricos y los caracteres encontrados\n",
    "    \"\"\"\n",
    "    if columns is None:\n",
    "        columns = df.columns\n",
    "\n",
    "    non_alphanumeric_chars_found = {}\n",
    "\n",
    "    for col in columns:\n",
    "        series = df[col]\n",
    "        pattern = r'[^a-zA-Z0-9]'  # Patrón de búsqueda para caracteres no alfanuméricos\n",
    "        for value in series:\n",
    "            if re.search(pattern, str(value)):\n",
    "                non_alphanumeric_chars_found.setdefault(col, set()).add(re.search(pattern, str(value)).group())\n",
    "\n",
    "    return non_alphanumeric_chars_found\n",
    "\n",
    "\n",
    "non_alphanumeric_chars_found = detect_non_alphanumeric_chars(x_train)\n",
    "\n",
    "\n",
    "df_non_alphanumeric = pd.DataFrame({\n",
    "    'Column': list(non_alphanumeric_chars_found.keys()),\n",
    "    'Non-Alphanumeric Characters': [', '.join(map(str, chars)) for chars in non_alphanumeric_chars_found.values()]\n",
    "})\n",
    "print(df_non_alphanumeric)"
   ]
  },
  {
   "cell_type": "code",
   "execution_count": 18,
   "metadata": {},
   "outputs": [
    {
     "name": "stdout",
     "output_type": "stream",
     "text": [
      "brand: {'-'}\n",
      "model: {'-', ' ', '.'}\n",
      "fuel_type: {'-', ' ', '–'}\n",
      "engine: {'.', '–', ' '}\n",
      "transmission: {'-', ' ', '–', '/'}\n",
      "ext_col: {' ', '–'}\n",
      "int_col: {' ', '–', '.', '/'}\n",
      "accident: {' '}\n"
     ]
    }
   ],
   "source": [
    "for key, value in non_alphanumeric_chars_found.items():\n",
    "    print(f\"{key}: {set(value)}\")"
   ]
  },
  {
   "cell_type": "code",
   "execution_count": 19,
   "metadata": {},
   "outputs": [
    {
     "name": "stdout",
     "output_type": "stream",
     "text": [
      "Hay caracteres especiales así '/', '–', ' ', '-' en las siguientes 8 columnas :\n",
      "\n",
      "brand            19733\n",
      "model           188043\n",
      "fuel_type         6723\n",
      "engine          187855\n",
      "transmission    177593\n",
      "ext_col          19408\n",
      "int_col          12732\n",
      "accident        186081\n",
      "dtype: int64\n"
     ]
    }
   ],
   "source": [
    "def count_non_alphanumeric_values(series):\n",
    "    return sum(1 for value in series if not re.match(r'^[a-zA-Z0-9]+$', str(value)))\n",
    "\n",
    "# Aplicamos la función a cada columna del DataFrame\n",
    "result = x_train.apply(count_non_alphanumeric_values)\n",
    "\n",
    "print(f\"Hay caracteres especiales así '/', '–', ' ', '-' en las siguientes {result[result.values!=0].shape[0]} columnas :\\n\\n{result[result.values!=0]}\")"
   ]
  },
  {
   "cell_type": "code",
   "execution_count": 20,
   "metadata": {},
   "outputs": [
    {
     "name": "stdout",
     "output_type": "stream",
     "text": [
      "Hay caracteres especiales así '/', '–', ' ', '-' y missing en las siguientes 9 columnas :\n",
      "\n",
      "brand            19733\n",
      "model           188043\n",
      "fuel_type        11806\n",
      "engine          187855\n",
      "transmission    177593\n",
      "ext_col          19408\n",
      "int_col          12732\n",
      "accident        188533\n",
      "clean_title      21419\n",
      "dtype: int64\n"
     ]
    }
   ],
   "source": [
    "import numpy as np\n",
    "import re\n",
    "\n",
    "def count_non_alphanumeric_values(series):\n",
    "    return sum(1 for value in series if not re.match(r'^[a-zA-Z0-9]+$', str(value)) or pd.isnull(value) or str(value).strip() == '')\n",
    "# Aplicamos la función a cada columna del DataFrame\n",
    "result = x_train.apply(count_non_alphanumeric_values)\n",
    "print(f\"Hay caracteres especiales así '/', '–', ' ', '-' y missing en las siguientes {result[result.values!=0].shape[0]} columnas :\\n\\n{result[result.values!=0]}\")"
   ]
  },
  {
   "cell_type": "code",
   "execution_count": 52,
   "metadata": {},
   "outputs": [
    {
     "name": "stdout",
     "output_type": "stream",
     "text": [
      "188,332\n"
     ]
    }
   ],
   "source": [
    "count_special_chars = x_categorical.apply(lambda x: ((x.str.contains('[*-/]')))).any(axis=1).sum()\n",
    "print(f'{count_special_chars:,}')"
   ]
  },
  {
   "cell_type": "code",
   "execution_count": 53,
   "metadata": {},
   "outputs": [
    {
     "name": "stdout",
     "output_type": "stream",
     "text": [
      "188,332\n"
     ]
    }
   ],
   "source": [
    "count_special_chars_and_missing = x_categorical.apply(lambda x: ((x.str.contains('[*-/]')) | (x.isna()) | (x.eq(' ')))).any(axis=1).sum()\n",
    "print(f'{count_special_chars_and_missing:,}')"
   ]
  },
  {
   "cell_type": "markdown",
   "metadata": {},
   "source": [
    "7. Distribución de las variables"
   ]
  },
  {
   "cell_type": "code",
   "execution_count": 21,
   "metadata": {},
   "outputs": [
    {
     "name": "stdout",
     "output_type": "stream",
     "text": [
      "          Features                              Categories  count_values  \\\n",
      "0         accident  At least 1 accident or damage reported         41567   \n",
      "1         accident                           None reported        144514   \n",
      "2            brand                                   Acura          2282   \n",
      "3            brand                                    Alfa           682   \n",
      "4            brand                                   Aston           238   \n",
      "...            ...                                     ...           ...   \n",
      "3603  transmission                 Single-Speed Fixed Gear            16   \n",
      "3604  transmission           Transmission Overdrive Switch           156   \n",
      "3605  transmission          Transmission w/Dual Shift Mode         19255   \n",
      "3606  transmission                                Variable            66   \n",
      "3607  transmission                                       –            87   \n",
      "\n",
      "      %por_variable  \n",
      "0              0.22  \n",
      "1              0.78  \n",
      "2              0.01  \n",
      "3              0.00  \n",
      "4              0.00  \n",
      "...             ...  \n",
      "3603           0.00  \n",
      "3604           0.00  \n",
      "3605           0.10  \n",
      "3606           0.00  \n",
      "3607           0.00  \n",
      "\n",
      "[3608 rows x 4 columns]\n"
     ]
    }
   ],
   "source": [
    "melted_df = pd.melt(x_categorical, var_name='Features', value_name='Categories')\n",
    "grouped_df = melted_df.groupby(['Features', 'Categories']).size().reset_index(name='count_values')\n",
    "\n",
    "\n",
    "#machaco la variable\n",
    "grouped_df['%por_variable']=round((grouped_df['count_values'] / grouped_df.groupby('Features')['count_values'].transform('sum')),2)\n",
    "print(grouped_df)\n",
    "grouped_df.to_csv(ruta+'categorias/x_categorial_categories.csv', sep=';')"
   ]
  },
  {
   "cell_type": "code",
   "execution_count": 22,
   "metadata": {},
   "outputs": [
    {
     "name": "stdout",
     "output_type": "stream",
     "text": [
      "       variable  num_categories\n",
      "0         brand              57\n",
      "1         model            1897\n",
      "2     fuel_type               7\n",
      "3        engine            1117\n",
      "4  transmission              52\n",
      "5       ext_col             319\n",
      "6       int_col             156\n",
      "7      accident               2\n",
      "8   clean_title               1\n"
     ]
    }
   ],
   "source": [
    "def categories(df):\n",
    "    \"\"\"\n",
    "    Cuenta las categorías por cada columna de un dataframe.\n",
    "\n",
    "    Parámetros:\n",
    "        df (pandas.DataFrame): DataFrame que contiene las columnas categóricas.\n",
    "\n",
    "    Retorna:\n",
    "        pandas.DataFrame: Dataframe con las columnas como índice y el número de categorías como valores.\n",
    "    \"\"\"\n",
    "    category_counts = {'variable': [], 'num_categories': []}\n",
    "    for column in df.columns:\n",
    "        category_counts['variable'].append(column)\n",
    "        category_counts['num_categories'].append(df[column].nunique())\n",
    "    return pd.DataFrame(category_counts)\n",
    "\n",
    "category_counts = categories(x_categorical)\n",
    "print(category_counts)"
   ]
  },
  {
   "cell_type": "code",
   "execution_count": 23,
   "metadata": {},
   "outputs": [
    {
     "data": {
      "text/plain": [
       "' # Gráfico de barras\\nimport seaborn as sns\\nimport matplotlib.pyplot as plt\\n# Crear una figura con múltiples subplots\\nfig, axs = plt.subplots(nrows=x_categorical.shape[1], ncols=1, figsize=(15, 40))\\n\\n# Iterar sobre cada variable y crear un gráfico de barras\\nfor i, variable in enumerate(x_categorical.columns):\\n    sns.countplot(x=variable, data=x_categorical, ax=axs[i])\\n    axs[i].set_title(f\\'Distribución de {variable}\\')\\n    axs[i].set_xticklabels(axs[i].get_xticklabels(), rotation=90, ha=\"right\")\\n# Ajustar el layout para que los títulos no se superpongan\\nplt.tight_layout()\\n\\n# Mostrar el gráfico\\nplt.show() '"
      ]
     },
     "execution_count": 23,
     "metadata": {},
     "output_type": "execute_result"
    }
   ],
   "source": [
    "\"\"\" # Gráfico de barras\n",
    "import seaborn as sns\n",
    "import matplotlib.pyplot as plt\n",
    "# Crear una figura con múltiples subplots\n",
    "fig, axs = plt.subplots(nrows=x_categorical.shape[1], ncols=1, figsize=(15, 40))\n",
    "\n",
    "# Iterar sobre cada variable y crear un gráfico de barras\n",
    "for i, variable in enumerate(x_categorical.columns):\n",
    "    sns.countplot(x=variable, data=x_categorical, ax=axs[i])\n",
    "    axs[i].set_title(f'Distribución de {variable}')\n",
    "    axs[i].set_xticklabels(axs[i].get_xticklabels(), rotation=90, ha=\"right\")\n",
    "# Ajustar el layout para que los títulos no se superpongan\n",
    "plt.tight_layout()\n",
    "\n",
    "# Mostrar el gráfico\n",
    "plt.show() \"\"\""
   ]
  },
  {
   "cell_type": "code",
   "execution_count": 24,
   "metadata": {},
   "outputs": [],
   "source": [
    "import seaborn as sns\n",
    "import matplotlib.pyplot as plt"
   ]
  },
  {
   "cell_type": "code",
   "execution_count": 25,
   "metadata": {},
   "outputs": [],
   "source": [
    "# Iterar sobre cada variable y crear un gráfico de barras\n",
    "for variable in x_categorical.columns:\n",
    "    plt.figure(figsize=(12, 8))\n",
    "    sns.countplot(x=variable, data=x_categorical, order=x_categorical[variable].value_counts().index, hue_order=x_categorical[variable].value_counts().index[:10])\n",
    "    plt.title(f'Distribución de {variable}')\n",
    "    plt.xticks(rotation=60, ha=\"right\")\n",
    "    plt.tight_layout()\n",
    "    plt.savefig(ruta+f\"graficos/{variable}.png\")\n",
    "    plt.close()\n",
    "    "
   ]
  },
  {
   "cell_type": "code",
   "execution_count": 26,
   "metadata": {},
   "outputs": [],
   "source": [
    "for variable in x_categorical.columns:\n",
    "    top_categories = x_categorical[variable].value_counts().index[:50]\n",
    "    filtered_data = x_categorical[x_categorical[variable].isin(top_categories)]\n",
    "    plt.figure(figsize=(12, 8))\n",
    "    sns.countplot(x=variable, data=filtered_data,order=filtered_data[variable].value_counts().index)\n",
    "    plt.title(f'Distribución de {variable}')\n",
    "    plt.xticks(rotation=60, ha=\"right\")\n",
    "    plt.tight_layout()\n",
    "    plt.savefig(ruta+f'{variable}.png')\n",
    "    plt.close()"
   ]
  }
 ],
 "metadata": {
  "kernelspec": {
   "display_name": "myenv10",
   "language": "python",
   "name": "python3"
  },
  "language_info": {
   "codemirror_mode": {
    "name": "ipython",
    "version": 3
   },
   "file_extension": ".py",
   "mimetype": "text/x-python",
   "name": "python",
   "nbconvert_exporter": "python",
   "pygments_lexer": "ipython3",
   "version": "3.10.14"
  }
 },
 "nbformat": 4,
 "nbformat_minor": 2
}
