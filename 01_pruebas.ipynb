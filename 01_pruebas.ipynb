{
 "cells": [
  {
   "cell_type": "code",
   "execution_count": null,
   "metadata": {},
   "outputs": [],
   "source": []
  },
  {
   "cell_type": "code",
   "execution_count": 9,
   "metadata": {},
   "outputs": [],
   "source": [
    "ruta='C:/4_F5/014_cars/nat_ml_regresion/salidas/'"
   ]
  },
  {
   "cell_type": "markdown",
   "metadata": {},
   "source": [
    "1. Cargar los datos\n"
   ]
  },
  {
   "cell_type": "code",
   "execution_count": 10,
   "metadata": {},
   "outputs": [],
   "source": [
    "import pandas as pd\n",
    "import os\n",
    "\n",
    "def load_data_train(file_path):\n",
    "    \"\"\"\n",
    "    Carga los datos del archivo CSV.\n",
    "\n",
    "    Args:\n",
    "        file_path (str): Ruta al archivo CSV.\n",
    "\n",
    "    Returns:\n",
    "        pd.DataFrame: DataFrame con los datos cargados o None si hay un error.\n",
    "    \"\"\"\n",
    "\n",
    "    # Obtener la ruta absoluta del archivo para evitar problemas con rutas relativas\n",
    "    abs_file_path = os.path.abspath(file_path)\n",
    "\n",
    "    # Verificar si el archivo existe en la ruta especificada\n",
    "    if not os.path.exists(abs_file_path):\n",
    "        # Imprimir mensajes de error detallados si el archivo no existe\n",
    "        print(f\"Error: El archivo no existe en la ruta: {abs_file_path}\")\n",
    "        print(f\"Directorio actual: {os.getcwd()}\")  # Mostrar el directorio actual para ayudar a depurar\n",
    "        print(\"Contenido del directorio:\")\n",
    "        try:\n",
    "            # Intentar listar el contenido del directorio para ayudar a identificar el problema\n",
    "            print(os.listdir(os.path.dirname(abs_file_path)))\n",
    "        except FileNotFoundError:\n",
    "            print(\"El directorio no existe.\")  # Informar si el directorio tampoco existe\n",
    "        return None  # Devolver None para indicar que la carga falló\n",
    "\n",
    "    try:\n",
    "        # Intentar cargar los datos utilizando pandas\n",
    "        df_train = pd.read_csv(abs_file_path)\n",
    "        print(f\"\\nDatos de 'train' cargados exitosamente. Shape: {df_train.shape}\\n\")  # Confirmar la carga exitosa\n",
    "        return df_train\n",
    "    except Exception as e:\n",
    "        # Capturar cualquier excepción que ocurra durante la carga e imprimir un mensaje de error\n",
    "        print(f\"Error al cargar los datos: {e}\")\n",
    "        return None"
   ]
  },
  {
   "cell_type": "code",
   "execution_count": 11,
   "metadata": {},
   "outputs": [
    {
     "name": "stdout",
     "output_type": "stream",
     "text": [
      "Intentando cargar el archivo desde: c:\\4_F5\\014_cars\\nat_ml_regresion\\data\\train.csv\n",
      "\n",
      "Datos de 'train' cargados exitosamente. Shape: (188533, 13)\n",
      "\n",
      "   id          brand              model  model_year  milage      fuel_type  \\\n",
      "0   0           MINI      Cooper S Base        2007  213000       Gasoline   \n",
      "1   1        Lincoln              LS V8        2002  143250       Gasoline   \n",
      "2   2      Chevrolet  Silverado 2500 LT        2002  136731  E85 Flex Fuel   \n",
      "3   3        Genesis   G90 5.0 Ultimate        2017   19500       Gasoline   \n",
      "4   4  Mercedes-Benz        Metris Base        2021    7388       Gasoline   \n",
      "\n",
      "                                              engine  \\\n",
      "0       172.0HP 1.6L 4 Cylinder Engine Gasoline Fuel   \n",
      "1       252.0HP 3.9L 8 Cylinder Engine Gasoline Fuel   \n",
      "2  320.0HP 5.3L 8 Cylinder Engine Flex Fuel Capab...   \n",
      "3       420.0HP 5.0L 8 Cylinder Engine Gasoline Fuel   \n",
      "4       208.0HP 2.0L 4 Cylinder Engine Gasoline Fuel   \n",
      "\n",
      "                     transmission ext_col int_col  \\\n",
      "0                             A/T  Yellow    Gray   \n",
      "1                             A/T  Silver   Beige   \n",
      "2                             A/T    Blue    Gray   \n",
      "3  Transmission w/Dual Shift Mode   Black   Black   \n",
      "4                     7-Speed A/T   Black   Beige   \n",
      "\n",
      "                                 accident clean_title  price  \n",
      "0                           None reported         Yes   4200  \n",
      "1  At least 1 accident or damage reported         Yes   4999  \n",
      "2                           None reported         Yes  13900  \n",
      "3                           None reported         Yes  45000  \n",
      "4                           None reported         Yes  97500  \n"
     ]
    }
   ],
   "source": [
    "# Bloque de ejemplo de uso (solo se ejecuta si el script se ejecuta directamente)\n",
    "if __name__ == \"__main__\":\n",
    "    # Obtener la ruta al archivo CSV dentro de la estructura del proyecto\n",
    "    #script_dir = os.path.dirname(os.path.abspath(__file__)) #sólo sirve cuando es .py porque la variable __file__ no está disponible porque no se está ejecutando un script de Python directamente.\n",
    "    #project_root = os.path.dirname(os.path.dirname(script_dir))\n",
    "    #data_path = os.path.join(project_root, \"data\", \"mushrooms.csv\") #(project_root,\"carpeta\",\"subcarpeta\",\"archivo.csv\")\n",
    "    data_path = data_path = os.path.join(os.getcwd(), \"data\", \"train.csv\")\n",
    "\n",
    "    print(f\"Intentando cargar el archivo desde: {data_path}\")\n",
    "\n",
    "\n",
    "    # Llamar a la función load_data para cargar los datos\n",
    "    \n",
    "    df_train = load_data_train(data_path)\n",
    "    if df_train is not None:\n",
    "        # Imprimir las primeras filas del DataFrame si la carga fue exitosa\n",
    "        print(df_train.head())\n",
    "    else:\n",
    "        # Imprimir un mensaje de error si la carga falló\n",
    "        print(\"No se pudieron cargar los datos. Verifica la ruta del archivo y su existencia.\")"
   ]
  },
  {
   "cell_type": "markdown",
   "metadata": {},
   "source": [
    "Luego debo cargar la parte de 'test' -----> Pendiente"
   ]
  },
  {
   "cell_type": "code",
   "execution_count": 12,
   "metadata": {},
   "outputs": [
    {
     "data": {
      "text/html": [
       "<div>\n",
       "<style scoped>\n",
       "    .dataframe tbody tr th:only-of-type {\n",
       "        vertical-align: middle;\n",
       "    }\n",
       "\n",
       "    .dataframe tbody tr th {\n",
       "        vertical-align: top;\n",
       "    }\n",
       "\n",
       "    .dataframe thead th {\n",
       "        text-align: right;\n",
       "    }\n",
       "</style>\n",
       "<table border=\"1\" class=\"dataframe\">\n",
       "  <thead>\n",
       "    <tr style=\"text-align: right;\">\n",
       "      <th></th>\n",
       "      <th>brand</th>\n",
       "      <th>model</th>\n",
       "      <th>model_year</th>\n",
       "      <th>milage</th>\n",
       "      <th>fuel_type</th>\n",
       "      <th>engine</th>\n",
       "      <th>transmission</th>\n",
       "      <th>ext_col</th>\n",
       "      <th>int_col</th>\n",
       "      <th>accident</th>\n",
       "      <th>clean_title</th>\n",
       "    </tr>\n",
       "  </thead>\n",
       "  <tbody>\n",
       "    <tr>\n",
       "      <th>0</th>\n",
       "      <td>MINI</td>\n",
       "      <td>Cooper S Base</td>\n",
       "      <td>2007</td>\n",
       "      <td>213000</td>\n",
       "      <td>Gasoline</td>\n",
       "      <td>172.0HP 1.6L 4 Cylinder Engine Gasoline Fuel</td>\n",
       "      <td>A/T</td>\n",
       "      <td>Yellow</td>\n",
       "      <td>Gray</td>\n",
       "      <td>None reported</td>\n",
       "      <td>Yes</td>\n",
       "    </tr>\n",
       "    <tr>\n",
       "      <th>1</th>\n",
       "      <td>Lincoln</td>\n",
       "      <td>LS V8</td>\n",
       "      <td>2002</td>\n",
       "      <td>143250</td>\n",
       "      <td>Gasoline</td>\n",
       "      <td>252.0HP 3.9L 8 Cylinder Engine Gasoline Fuel</td>\n",
       "      <td>A/T</td>\n",
       "      <td>Silver</td>\n",
       "      <td>Beige</td>\n",
       "      <td>At least 1 accident or damage reported</td>\n",
       "      <td>Yes</td>\n",
       "    </tr>\n",
       "    <tr>\n",
       "      <th>2</th>\n",
       "      <td>Chevrolet</td>\n",
       "      <td>Silverado 2500 LT</td>\n",
       "      <td>2002</td>\n",
       "      <td>136731</td>\n",
       "      <td>E85 Flex Fuel</td>\n",
       "      <td>320.0HP 5.3L 8 Cylinder Engine Flex Fuel Capab...</td>\n",
       "      <td>A/T</td>\n",
       "      <td>Blue</td>\n",
       "      <td>Gray</td>\n",
       "      <td>None reported</td>\n",
       "      <td>Yes</td>\n",
       "    </tr>\n",
       "    <tr>\n",
       "      <th>3</th>\n",
       "      <td>Genesis</td>\n",
       "      <td>G90 5.0 Ultimate</td>\n",
       "      <td>2017</td>\n",
       "      <td>19500</td>\n",
       "      <td>Gasoline</td>\n",
       "      <td>420.0HP 5.0L 8 Cylinder Engine Gasoline Fuel</td>\n",
       "      <td>Transmission w/Dual Shift Mode</td>\n",
       "      <td>Black</td>\n",
       "      <td>Black</td>\n",
       "      <td>None reported</td>\n",
       "      <td>Yes</td>\n",
       "    </tr>\n",
       "    <tr>\n",
       "      <th>4</th>\n",
       "      <td>Mercedes-Benz</td>\n",
       "      <td>Metris Base</td>\n",
       "      <td>2021</td>\n",
       "      <td>7388</td>\n",
       "      <td>Gasoline</td>\n",
       "      <td>208.0HP 2.0L 4 Cylinder Engine Gasoline Fuel</td>\n",
       "      <td>7-Speed A/T</td>\n",
       "      <td>Black</td>\n",
       "      <td>Beige</td>\n",
       "      <td>None reported</td>\n",
       "      <td>Yes</td>\n",
       "    </tr>\n",
       "  </tbody>\n",
       "</table>\n",
       "</div>"
      ],
      "text/plain": [
       "           brand              model  model_year  milage      fuel_type  \\\n",
       "0           MINI      Cooper S Base        2007  213000       Gasoline   \n",
       "1        Lincoln              LS V8        2002  143250       Gasoline   \n",
       "2      Chevrolet  Silverado 2500 LT        2002  136731  E85 Flex Fuel   \n",
       "3        Genesis   G90 5.0 Ultimate        2017   19500       Gasoline   \n",
       "4  Mercedes-Benz        Metris Base        2021    7388       Gasoline   \n",
       "\n",
       "                                              engine  \\\n",
       "0       172.0HP 1.6L 4 Cylinder Engine Gasoline Fuel   \n",
       "1       252.0HP 3.9L 8 Cylinder Engine Gasoline Fuel   \n",
       "2  320.0HP 5.3L 8 Cylinder Engine Flex Fuel Capab...   \n",
       "3       420.0HP 5.0L 8 Cylinder Engine Gasoline Fuel   \n",
       "4       208.0HP 2.0L 4 Cylinder Engine Gasoline Fuel   \n",
       "\n",
       "                     transmission ext_col int_col  \\\n",
       "0                             A/T  Yellow    Gray   \n",
       "1                             A/T  Silver   Beige   \n",
       "2                             A/T    Blue    Gray   \n",
       "3  Transmission w/Dual Shift Mode   Black   Black   \n",
       "4                     7-Speed A/T   Black   Beige   \n",
       "\n",
       "                                 accident clean_title  \n",
       "0                           None reported         Yes  \n",
       "1  At least 1 accident or damage reported         Yes  \n",
       "2                           None reported         Yes  \n",
       "3                           None reported         Yes  \n",
       "4                           None reported         Yes  "
      ]
     },
     "execution_count": 12,
     "metadata": {},
     "output_type": "execute_result"
    }
   ],
   "source": [
    "x_train=df_train.drop(['id', 'price'], axis=1)\n",
    "\n",
    "x_train.head()"
   ]
  },
  {
   "cell_type": "code",
   "execution_count": 13,
   "metadata": {},
   "outputs": [],
   "source": [
    "y_train= df_train['price']"
   ]
  },
  {
   "cell_type": "markdown",
   "metadata": {},
   "source": [
    "2. Examinar las primeras y últimas filas del DataFrame\n"
   ]
  },
  {
   "cell_type": "code",
   "execution_count": 14,
   "metadata": {},
   "outputs": [
    {
     "name": "stdout",
     "output_type": "stream",
     "text": [
      "           brand              model  model_year  milage      fuel_type  \\\n",
      "0           MINI      Cooper S Base        2007  213000       Gasoline   \n",
      "1        Lincoln              LS V8        2002  143250       Gasoline   \n",
      "2      Chevrolet  Silverado 2500 LT        2002  136731  E85 Flex Fuel   \n",
      "3        Genesis   G90 5.0 Ultimate        2017   19500       Gasoline   \n",
      "4  Mercedes-Benz        Metris Base        2021    7388       Gasoline   \n",
      "\n",
      "                                              engine  \\\n",
      "0       172.0HP 1.6L 4 Cylinder Engine Gasoline Fuel   \n",
      "1       252.0HP 3.9L 8 Cylinder Engine Gasoline Fuel   \n",
      "2  320.0HP 5.3L 8 Cylinder Engine Flex Fuel Capab...   \n",
      "3       420.0HP 5.0L 8 Cylinder Engine Gasoline Fuel   \n",
      "4       208.0HP 2.0L 4 Cylinder Engine Gasoline Fuel   \n",
      "\n",
      "                     transmission ext_col int_col  \\\n",
      "0                             A/T  Yellow    Gray   \n",
      "1                             A/T  Silver   Beige   \n",
      "2                             A/T    Blue    Gray   \n",
      "3  Transmission w/Dual Shift Mode   Black   Black   \n",
      "4                     7-Speed A/T   Black   Beige   \n",
      "\n",
      "                                 accident clean_title  \n",
      "0                           None reported         Yes  \n",
      "1  At least 1 accident or damage reported         Yes  \n",
      "2                           None reported         Yes  \n",
      "3                           None reported         Yes  \n",
      "4                           None reported         Yes  \n",
      "                brand                     model  model_year  milage fuel_type  \\\n",
      "188528       Cadillac     Escalade ESV Platinum        2017   49000  Gasoline   \n",
      "188529  Mercedes-Benz  AMG C 43 AMG C 43 4MATIC        2018   28600  Gasoline   \n",
      "188530  Mercedes-Benz    AMG GLC 63 Base 4MATIC        2021   13650  Gasoline   \n",
      "188531           Audi          S5 3.0T Prestige        2022   13895  Gasoline   \n",
      "188532        Porsche                Macan Base        2016   59500  Gasoline   \n",
      "\n",
      "                                               engine  \\\n",
      "188528   420.0HP 6.2L 8 Cylinder Engine Gasoline Fuel   \n",
      "188529  385.0HP 3.0L V6 Cylinder Engine Gasoline Fuel   \n",
      "188530   469.0HP 4.0L 8 Cylinder Engine Gasoline Fuel   \n",
      "188531                                           3.0L   \n",
      "188532   252.0HP 2.0L 4 Cylinder Engine Gasoline Fuel   \n",
      "\n",
      "                          transmission                    ext_col int_col  \\\n",
      "188528  Transmission w/Dual Shift Mode                      White   Beige   \n",
      "188529                     8-Speed A/T                      White   Black   \n",
      "188530                     7-Speed A/T                      White   Black   \n",
      "188531               1-Speed Automatic  Daytona Gray Pearl Effect   Black   \n",
      "188532  Transmission w/Dual Shift Mode                      White   Black   \n",
      "\n",
      "                                      accident clean_title  \n",
      "188528                           None reported         Yes  \n",
      "188529  At least 1 accident or damage reported         Yes  \n",
      "188530                           None reported         Yes  \n",
      "188531                           None reported         NaN  \n",
      "188532                           None reported         Yes  \n"
     ]
    }
   ],
   "source": [
    "# Ver las primeras 5 filas\n",
    "print(x_train.head())\n",
    "\n",
    "# Ver las últimas 5 filas\n",
    "print(x_train.tail())"
   ]
  },
  {
   "cell_type": "markdown",
   "metadata": {},
   "source": [
    "3. Obtener un resumen del DataFrame\n",
    "\n",
    "El método info() proporciona un resumen del DataFrame, incluyendo el número de filas y columnas, los tipos de datos y la cantidad de valores no nulos. Es útil para detectar valores faltantes y verificar que los tipos de datos sean los esperados."
   ]
  },
  {
   "cell_type": "code",
   "execution_count": 15,
   "metadata": {},
   "outputs": [
    {
     "name": "stdout",
     "output_type": "stream",
     "text": [
      "<class 'pandas.core.frame.DataFrame'>\n",
      "RangeIndex: 188533 entries, 0 to 188532\n",
      "Data columns (total 11 columns):\n",
      " #   Column        Non-Null Count   Dtype \n",
      "---  ------        --------------   ----- \n",
      " 0   brand         188533 non-null  object\n",
      " 1   model         188533 non-null  object\n",
      " 2   model_year    188533 non-null  int64 \n",
      " 3   milage        188533 non-null  int64 \n",
      " 4   fuel_type     183450 non-null  object\n",
      " 5   engine        188533 non-null  object\n",
      " 6   transmission  188533 non-null  object\n",
      " 7   ext_col       188533 non-null  object\n",
      " 8   int_col       188533 non-null  object\n",
      " 9   accident      186081 non-null  object\n",
      " 10  clean_title   167114 non-null  object\n",
      "dtypes: int64(2), object(9)\n",
      "memory usage: 15.8+ MB\n",
      "None\n"
     ]
    }
   ],
   "source": [
    "# Resumen de la estructura del DataFrame\n",
    "print(x_train.info())"
   ]
  },
  {
   "cell_type": "markdown",
   "metadata": {},
   "source": [
    "4. Estadísticas descriptivas\n",
    "\n",
    "El método describe() genera estadísticas descriptivas como la media, mediana, desviación estándar, valores mínimos y máximos para las columnas numéricas. Esto es útil para tener una idea de la distribución de los datos."
   ]
  },
  {
   "cell_type": "code",
   "execution_count": 16,
   "metadata": {},
   "outputs": [
    {
     "name": "stdout",
     "output_type": "stream",
     "text": [
      "          model_year         milage\n",
      "count  188533.000000  188533.000000\n",
      "mean     2015.829998   65705.295174\n",
      "std         5.660967   49798.158076\n",
      "min      1974.000000     100.000000\n",
      "25%      2013.000000   24115.000000\n",
      "50%      2017.000000   57785.000000\n",
      "75%      2020.000000   95400.000000\n",
      "max      2024.000000  405000.000000\n"
     ]
    }
   ],
   "source": [
    "# Estadísticas descriptivas\n",
    "print(x_train.describe())\n"
   ]
  },
  {
   "cell_type": "code",
   "execution_count": 18,
   "metadata": {},
   "outputs": [
    {
     "name": "stdout",
     "output_type": "stream",
     "text": [
      "         brand      model fuel_type  \\\n",
      "count   188533     188533    183450   \n",
      "unique      57       1897         7   \n",
      "top       Ford  F-150 XLT  Gasoline   \n",
      "freq     23088       2945    165940   \n",
      "\n",
      "                                              engine transmission ext_col  \\\n",
      "count                                         188533       188533  188533   \n",
      "unique                                          1117           52     319   \n",
      "top     355.0HP 5.3L 8 Cylinder Engine Gasoline Fuel          A/T   Black   \n",
      "freq                                            3462        49904   48658   \n",
      "\n",
      "       int_col       accident clean_title  \n",
      "count   188533         186081      167114  \n",
      "unique     156              2           1  \n",
      "top      Black  None reported         Yes  \n",
      "freq    107674         144514      167114  \n"
     ]
    }
   ],
   "source": [
    "# Estadísticas descriptivas para variables categóricas\n",
    "#Se usa describe(include='object') para ver el recuento y las frecuencias más comunes en esas columnas.\n",
    "print(x_train.describe(include='object'))"
   ]
  },
  {
   "cell_type": "markdown",
   "metadata": {},
   "source": [
    "5. Revisar valores únicos y distribución de categorías\n",
    "\n",
    "Para variables categóricas, es importante saber cuántas categorías hay y cómo están distribuidas. Usar value_counts() te permite ver la frecuencia de cada categoría."
   ]
  },
  {
   "cell_type": "code",
   "execution_count": 23,
   "metadata": {},
   "outputs": [
    {
     "name": "stdout",
     "output_type": "stream",
     "text": [
      "engine\n",
      "355.0HP 5.3L 8 Cylinder Engine Gasoline Fuel           3462\n",
      "240.0HP 2.0L 4 Cylinder Engine Gasoline Fuel           2902\n",
      "420.0HP 6.2L 8 Cylinder Engine Gasoline Fuel           2841\n",
      "2.0L I4 16V GDI DOHC Turbo                             2680\n",
      "375.0HP 3.5L V6 Cylinder Engine Gasoline Fuel          2451\n",
      "                                                       ... \n",
      "78.0HP 1.2L 3 Cylinder Engine Gasoline Fuel               1\n",
      "139.0HP 1.6L 4 Cylinder Engine Plug-In Electric/Gas       1\n",
      "151.0HP 1.5L 4 Cylinder Engine Gas/Electric Hybrid        1\n",
      "184.0HP 2.4L 4 Cylinder Engine Flex Fuel Capability       1\n",
      "313.0HP 2.0L 4 Cylinder Engine Plug-In Electric/Gas       1\n",
      "Name: count, Length: 1117, dtype: int64\n"
     ]
    }
   ],
   "source": [
    "# Ver cuántas veces aparece cada valor en una columna categórica\n",
    "print(x_train['engine'].value_counts())"
   ]
  }
 ],
 "metadata": {
  "kernelspec": {
   "display_name": "myenv10",
   "language": "python",
   "name": "python3"
  },
  "language_info": {
   "codemirror_mode": {
    "name": "ipython",
    "version": 3
   },
   "file_extension": ".py",
   "mimetype": "text/x-python",
   "name": "python",
   "nbconvert_exporter": "python",
   "pygments_lexer": "ipython3",
   "version": "3.10.14"
  }
 },
 "nbformat": 4,
 "nbformat_minor": 2
}
